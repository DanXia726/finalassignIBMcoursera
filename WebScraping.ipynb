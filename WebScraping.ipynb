# Question 1 - Extracting Tesla Stock Data Using yfinance

# Step 1: Import the library 
import yfinance as yf

# Step 2: Create a ticker object for Tesla
tesla = yf.Ticker("TSLA")

# Step 3: Get Tesla stock data for maximum time period
tesla_data = tesla.history(period="max")

# Step 4: Data look
tesla_data.head()


# Question 2 - Use Webscraping to Extract Tesla Revenue Data

# Step 1: Import the libraries 
import requests
from bs4 import BeautifulSoup
import pandas as pd

# Step 2: Get the webpage with Tesla revenue data
url = "https://cf-courses-data.s3.us.cloud-object-storage.appdomain.cloud/IBMDeveloperSkillsNetwork-PY0220EN-SkillsNetwork/labs/project/revenue.htm"
html_data = requests.get(url).text

# Step 3: Parse the webpage
soup = BeautifulSoup(html_data, 'html.parser')

# Step 4: Create empty dataframe for Tesla revenue
tesla_revenue = pd.DataFrame(columns=["Date", "Revenue"])

# Step 5: Find Tesla revenue table and extract data
for row in soup.find("tbody").find_all('tr'):
    col = row.find_all("td")
    if col != []:
        date = col[0].text
        revenue = col[1].text
        tesla_revenue = pd.concat([tesla_revenue, pd.DataFrame({"Date": [date], "Revenue": [revenue]})], ignore_index=True)

# Step 6: Display the last 5 rows
tesla_revenue.tail()


# Question 3 - Use yfinance to Extract GameStop Stock Data

# Step 1: Import the library 
import yfinance as yf

# Step 2: Create a ticker object for GameStop
gme = yf.Ticker("GME")

# Step 3: Get GameStop stock data for maximum time period
gme_data = gme.history(period="max")

# Step 4: Reset the index (make Date a regular column)
gme_data.reset_index(inplace=True)

# Step 5: Display the first 5 rows
gme_data.head()


# Question 4 - Use Webscraping to Extract GME Revenue Data

# Step 1: Import the libraries 
import requests
from bs4 import BeautifulSoup
import pandas as pd

# Step 2: Get the webpage with GameStop revenue data
url = "https://cf-courses-data.s3.us.cloud-object-storage.appdomain.cloud/IBMDeveloperSkillsNetwork-PY0220EN-SkillsNetwork/labs/project/stock.html"
html_data = requests.get(url).text

# Step 3: Parse the webpage
soup = BeautifulSoup(html_data, 'html.parser')

# Step 4: Create empty dataframe for GameStop revenue
gme_revenue = pd.DataFrame(columns=["Date", "Revenue"])

# Step 5: Find GameStop revenue table and extract data
for row in soup.find("tbody").find_all('tr'):
    col = row.find_all("td")
    if col != []:
        date = col[0].text
        revenue = col[1].text
        gme_revenue = pd.concat([gme_revenue, pd.DataFrame({"Date": [date], "Revenue": [revenue]})], ignore_index=True)

# Step 6: Display the last 5 rows
gme_revenue.tail()


# Question 5 - Plot Tesla Stock Graph (Only Stock Price)

# Step 1: Import 
import plotly.graph_objects as go
import pandas as pd

# Step 2: Make sure Date is a column
tesla_data.reset_index(inplace=True)

# Step 3: Simple make_graph function for stock only
def make_graph(stock_data, stock_title):
    fig = go.Figure()
    fig.add_trace(go.Scatter(x=stock_data['Date'], y=stock_data['Close'], name="Stock Price"))
    fig.update_layout(title=stock_title, xaxis_title="Date", yaxis_title="Price ($)")
    fig.show()

# Step 4: Use make_graph function
make_graph(tesla_data, 'Tesla Stock Price')


# Question 6 - Plot GameStop Stock Graph

# Step 1: Import 
import plotly.graph_objects as go
import pandas as pd

# Step 2: Make sure Date is a column
gme_data.reset_index(inplace=True)

# Step 3: Simple make_graph function for stock only
def make_graph(stock_data, stock_title):
    fig = go.Figure()
    fig.add_trace(go.Scatter(x=stock_data['Date'], y=stock_data['Close'], name="Stock Price"))
    fig.update_layout(title=stock_title, xaxis_title="Date", yaxis_title="Price ($)")
    fig.show()

# Step 4: Use make_graph function for GameStop
make_graph(gme_data, 'GameStop Stock Price')



